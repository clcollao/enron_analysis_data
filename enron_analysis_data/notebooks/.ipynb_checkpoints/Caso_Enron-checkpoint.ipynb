{
 "cells": [
  {
   "cell_type": "code",
   "execution_count": 56,
   "id": "e9c07c8e",
   "metadata": {},
   "outputs": [],
   "source": [
    "#Importación de librerias\n",
    "\n",
    "import pickle\n",
    "import pandas as pd\n",
    "import numpy as np\n",
    "import warnings\n",
    "warnings.filterwarnings(\"ignore\")\n",
    "from enron_analysis_data.settings import RAW_DATA\n",
    "from enron_analysis_data.settings import CLEAN_DATA\n",
    "from pathlib import Path\n",
    "import matplotlib.pyplot as plt\n",
    "from  enron_analysis_data.funtions import featureFormat, targetFeatureSplit"
   ]
  },
  {
   "cell_type": "code",
   "execution_count": 57,
   "id": "e3eeb959",
   "metadata": {},
   "outputs": [],
   "source": [
    "file = Path(RAW_DATA,'enron_data.pkl')"
   ]
  },
  {
   "cell_type": "code",
   "execution_count": 58,
   "id": "2ed44676",
   "metadata": {},
   "outputs": [],
   "source": [
    "df = pd.read_pickle(file)"
   ]
  },
  {
   "cell_type": "code",
   "execution_count": 59,
   "id": "2a25739a",
   "metadata": {},
   "outputs": [
    {
     "data": {
      "text/plain": [
       "146"
      ]
     },
     "execution_count": 59,
     "metadata": {},
     "output_type": "execute_result"
    }
   ],
   "source": [
    "len(df)"
   ]
  },
  {
   "cell_type": "code",
   "execution_count": 60,
   "id": "ff2ed790",
   "metadata": {},
   "outputs": [],
   "source": [
    "first_item = list(df.keys())[0]"
   ]
  },
  {
   "cell_type": "code",
   "execution_count": 61,
   "id": "77cf23f4",
   "metadata": {},
   "outputs": [
    {
     "data": {
      "text/plain": [
       "'METTS MARK'"
      ]
     },
     "execution_count": 61,
     "metadata": {},
     "output_type": "execute_result"
    }
   ],
   "source": [
    "first_item"
   ]
  },
  {
   "cell_type": "code",
   "execution_count": 62,
   "id": "46a24891",
   "metadata": {},
   "outputs": [
    {
     "name": "stdout",
     "output_type": "stream",
     "text": [
      "dict_keys(['salary', 'to_messages', 'deferral_payments', 'total_payments', 'loan_advances', 'bonus', 'email_address', 'restricted_stock_deferred', 'deferred_income', 'total_stock_value', 'expenses', 'from_poi_to_this_person', 'exercised_stock_options', 'from_messages', 'other', 'from_this_person_to_poi', 'poi', 'long_term_incentive', 'shared_receipt_with_poi', 'restricted_stock', 'director_fees'])\n"
     ]
    }
   ],
   "source": [
    "print(df[first_item].keys())"
   ]
  },
  {
   "cell_type": "code",
   "execution_count": 63,
   "id": "eb048d1f",
   "metadata": {},
   "outputs": [
    {
     "name": "stdout",
     "output_type": "stream",
     "text": [
      "No of POI: 18\n"
     ]
    }
   ],
   "source": [
    "#POI Person of Interest incluye a todas las personas acusadas, acusadas de un delito\n",
    "#y las personas que se asentaron sin admitir su culpabilidad y testificaron a cambio\n",
    "#de inmunidad procesal en el escándalo de Enron.\n",
    "\n",
    "people = 0\n",
    "poiCount = 0\n",
    "for person in df:\n",
    "    people = people + 1\n",
    "    if df[person]['poi'] == 1:\n",
    "        poiCount += 1\n",
    "print(\"No of POI:\", poiCount)"
   ]
  },
  {
   "cell_type": "code",
   "execution_count": 64,
   "id": "4390f0af",
   "metadata": {},
   "outputs": [],
   "source": [
    "text = Path(RAW_DATA,'poi_names.txt')"
   ]
  },
  {
   "cell_type": "code",
   "execution_count": 65,
   "id": "1cfcee36",
   "metadata": {},
   "outputs": [],
   "source": [
    "poiFile = open(text)"
   ]
  },
  {
   "cell_type": "code",
   "execution_count": 66,
   "id": "50f375cb",
   "metadata": {},
   "outputs": [
    {
     "data": {
      "text/plain": [
       "<_io.TextIOWrapper name='/Users/claudiocollaobahamondes/Documents/GitHub/enron_analysis_data/enron_analysis_data/data/raw_data/poi_names.txt' mode='r' encoding='UTF-8'>"
      ]
     },
     "execution_count": 66,
     "metadata": {},
     "output_type": "execute_result"
    }
   ],
   "source": [
    "poiFile"
   ]
  },
  {
   "cell_type": "code",
   "execution_count": 67,
   "id": "4a19ce93",
   "metadata": {},
   "outputs": [
    {
     "name": "stdout",
     "output_type": "stream",
     "text": [
      "Total POIs: 35\n"
     ]
    }
   ],
   "source": [
    "poiCount2 = 0\n",
    "lines = poiFile.readlines() \n",
    "for line in lines:\n",
    "    if line[0] == '(':\n",
    "        poiCount2 += 1\n",
    "print(\"Total POIs:\",poiCount2)"
   ]
  },
  {
   "cell_type": "code",
   "execution_count": 68,
   "id": "4ac10b60",
   "metadata": {},
   "outputs": [
    {
     "name": "stdout",
     "output_type": "stream",
     "text": [
      "{'salary': 1111258, 'to_messages': 3627, 'deferral_payments': 'NaN', 'total_payments': 8682716, 'loan_advances': 'NaN', 'bonus': 5600000, 'email_address': 'jeff.skilling@enron.com', 'restricted_stock_deferred': 'NaN', 'deferred_income': 'NaN', 'total_stock_value': 26093672, 'expenses': 29336, 'from_poi_to_this_person': 88, 'exercised_stock_options': 19250000, 'from_messages': 108, 'other': 22122, 'from_this_person_to_poi': 30, 'poi': True, 'long_term_incentive': 1920000, 'shared_receipt_with_poi': 2042, 'restricted_stock': 6843672, 'director_fees': 'NaN'}\n"
     ]
    }
   ],
   "source": [
    "#Explorando los datos del CEO J. Skilling\n",
    "\n",
    "j_skilling = df['SKILLING JEFFREY K']\n",
    "print(j_skilling)"
   ]
  },
  {
   "cell_type": "code",
   "execution_count": 69,
   "id": "d772d48d",
   "metadata": {},
   "outputs": [
    {
     "name": "stdout",
     "output_type": "stream",
     "text": [
      "Skilling's Salary: 1111258\n",
      "Skilling's Bonus 5600000\n",
      "Skilling's Total Stocks Value 26093672\n",
      "Lay's Salary: 1072321\n",
      "Lay's Bonus 7000000\n",
      "Lay's Total Stocks Value 49110078\n"
     ]
    }
   ],
   "source": [
    "print(\"Skilling's Salary:\", df[\"SKILLING JEFFREY K\"][\"salary\"])\n",
    "print(\"Skilling's Bonus\", df[\"SKILLING JEFFREY K\"][\"bonus\"])\n",
    "print(\"Skilling's Total Stocks Value\", df[\"SKILLING JEFFREY K\"][\"total_stock_value\"])\n",
    "print(\"Lay's Salary:\", df[\"LAY KENNETH L\"][\"salary\"])\n",
    "print(\"Lay's Bonus\", df[\"LAY KENNETH L\"][\"bonus\"])\n",
    "print(\"Lay's Total Stocks Value\", df[\"LAY KENNETH L\"][\"total_stock_value\"])"
   ]
  },
  {
   "cell_type": "code",
   "execution_count": 70,
   "id": "f5b1361d",
   "metadata": {},
   "outputs": [
    {
     "name": "stdout",
     "output_type": "stream",
     "text": [
      "95\n"
     ]
    }
   ],
   "source": [
    "people = 0\n",
    "have_quantified_salary = 0\n",
    "for person in df:\n",
    "    people = people + 1\n",
    "    if df[person]['salary'] != 'NaN':\n",
    "            have_quantified_salary += 1\n",
    "print(have_quantified_salary)"
   ]
  },
  {
   "cell_type": "code",
   "execution_count": 71,
   "id": "f1164d39",
   "metadata": {},
   "outputs": [
    {
     "data": {
      "text/plain": [
       "(array([ 8., 22., 45., 13.,  2.,  1.,  0.,  0.,  0.,  3.]),\n",
       " array([4.7700000e+02, 1.1155510e+05, 2.2263320e+05, 3.3371130e+05,\n",
       "        4.4478940e+05, 5.5586750e+05, 6.6694560e+05, 7.7802370e+05,\n",
       "        8.8910180e+05, 1.0001799e+06, 1.1112580e+06]),\n",
       " <BarContainer object of 10 artists>)"
      ]
     },
     "execution_count": 71,
     "metadata": {},
     "output_type": "execute_result"
    },
    {
     "data": {
      "image/png": "[encoded data removed]",
      "text/plain": [
       "<Figure size 432x288 with 1 Axes>"
      ]
     },
     "metadata": {
      "needs_background": "light"
     },
     "output_type": "display_data"
    }
   ],
   "source": [
    "feature1 = [\"salary\"]\n",
    "df.pop('TOTAL', 0)\n",
    "salary = featureFormat(df, feature1)\n",
    "counts, bins = np.histogram(salary)\n",
    "plt.hist(bins[:-1], bins, weights=counts)"
   ]
  },
  {
   "cell_type": "code",
   "execution_count": null,
   "id": "36ef3c8f",
   "metadata": {},
   "outputs": [],
   "source": []
  }
 ],
 "metadata": {
  "kernelspec": {
   "display_name": "Python 3",
   "language": "python",
   "name": "python3"
  },
  "language_info": {
   "codemirror_mode": {
    "name": "ipython",
    "version": 3
   },
   "file_extension": ".py",
   "mimetype": "text/x-python",
   "name": "python",
   "nbconvert_exporter": "python",
   "pygments_lexer": "ipython3",
   "version": "3.7.9"
  }
 },
 "nbformat": 4,
 "nbformat_minor": 5
}
